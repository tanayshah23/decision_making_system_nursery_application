{
 "cells": [
  {
   "cell_type": "code",
   "execution_count": 1,
   "metadata": {},
   "outputs": [],
   "source": [
    "import pandas as pd\n",
    "import numpy as np"
   ]
  },
  {
   "cell_type": "code",
   "execution_count": 2,
   "metadata": {},
   "outputs": [],
   "source": [
    "df = pd.read_csv(\"nursery.data\",header=None)"
   ]
  },
  {
   "cell_type": "code",
   "execution_count": 3,
   "metadata": {},
   "outputs": [
    {
     "data": {
      "text/html": [
       "<div>\n",
       "<style scoped>\n",
       "    .dataframe tbody tr th:only-of-type {\n",
       "        vertical-align: middle;\n",
       "    }\n",
       "\n",
       "    .dataframe tbody tr th {\n",
       "        vertical-align: top;\n",
       "    }\n",
       "\n",
       "    .dataframe thead th {\n",
       "        text-align: right;\n",
       "    }\n",
       "</style>\n",
       "<table border=\"1\" class=\"dataframe\">\n",
       "  <thead>\n",
       "    <tr style=\"text-align: right;\">\n",
       "      <th></th>\n",
       "      <th>0</th>\n",
       "      <th>1</th>\n",
       "      <th>2</th>\n",
       "      <th>3</th>\n",
       "      <th>4</th>\n",
       "      <th>5</th>\n",
       "      <th>6</th>\n",
       "      <th>7</th>\n",
       "      <th>8</th>\n",
       "    </tr>\n",
       "  </thead>\n",
       "  <tbody>\n",
       "    <tr>\n",
       "      <th>0</th>\n",
       "      <td>usual</td>\n",
       "      <td>proper</td>\n",
       "      <td>complete</td>\n",
       "      <td>1</td>\n",
       "      <td>convenient</td>\n",
       "      <td>convenient</td>\n",
       "      <td>nonprob</td>\n",
       "      <td>recommended</td>\n",
       "      <td>recommend</td>\n",
       "    </tr>\n",
       "    <tr>\n",
       "      <th>1</th>\n",
       "      <td>usual</td>\n",
       "      <td>proper</td>\n",
       "      <td>complete</td>\n",
       "      <td>1</td>\n",
       "      <td>convenient</td>\n",
       "      <td>convenient</td>\n",
       "      <td>nonprob</td>\n",
       "      <td>priority</td>\n",
       "      <td>priority</td>\n",
       "    </tr>\n",
       "    <tr>\n",
       "      <th>2</th>\n",
       "      <td>usual</td>\n",
       "      <td>proper</td>\n",
       "      <td>complete</td>\n",
       "      <td>1</td>\n",
       "      <td>convenient</td>\n",
       "      <td>convenient</td>\n",
       "      <td>nonprob</td>\n",
       "      <td>not_recom</td>\n",
       "      <td>not_recom</td>\n",
       "    </tr>\n",
       "    <tr>\n",
       "      <th>3</th>\n",
       "      <td>usual</td>\n",
       "      <td>proper</td>\n",
       "      <td>complete</td>\n",
       "      <td>1</td>\n",
       "      <td>convenient</td>\n",
       "      <td>convenient</td>\n",
       "      <td>slightly_prob</td>\n",
       "      <td>recommended</td>\n",
       "      <td>recommend</td>\n",
       "    </tr>\n",
       "    <tr>\n",
       "      <th>4</th>\n",
       "      <td>usual</td>\n",
       "      <td>proper</td>\n",
       "      <td>complete</td>\n",
       "      <td>1</td>\n",
       "      <td>convenient</td>\n",
       "      <td>convenient</td>\n",
       "      <td>slightly_prob</td>\n",
       "      <td>priority</td>\n",
       "      <td>priority</td>\n",
       "    </tr>\n",
       "  </tbody>\n",
       "</table>\n",
       "</div>"
      ],
      "text/plain": [
       "       0       1         2  3           4           5              6  \\\n",
       "0  usual  proper  complete  1  convenient  convenient        nonprob   \n",
       "1  usual  proper  complete  1  convenient  convenient        nonprob   \n",
       "2  usual  proper  complete  1  convenient  convenient        nonprob   \n",
       "3  usual  proper  complete  1  convenient  convenient  slightly_prob   \n",
       "4  usual  proper  complete  1  convenient  convenient  slightly_prob   \n",
       "\n",
       "             7          8  \n",
       "0  recommended  recommend  \n",
       "1     priority   priority  \n",
       "2    not_recom  not_recom  \n",
       "3  recommended  recommend  \n",
       "4     priority   priority  "
      ]
     },
     "execution_count": 3,
     "metadata": {},
     "output_type": "execute_result"
    }
   ],
   "source": [
    "df.head()"
   ]
  },
  {
   "cell_type": "code",
   "execution_count": 4,
   "metadata": {},
   "outputs": [
    {
     "data": {
      "text/plain": [
       "array(['complete', 'completed', 'incomplete', 'foster'], dtype=object)"
      ]
     },
     "execution_count": 4,
     "metadata": {},
     "output_type": "execute_result"
    }
   ],
   "source": [
    "df[2].unique()"
   ]
  },
  {
   "cell_type": "code",
   "execution_count": 6,
   "metadata": {},
   "outputs": [],
   "source": [
    "df.columns =  [[\"Parents\",\"has_nurs\",\"form\",\"children\",\"housing\",\"finance\",\"social\",\"health\",\"Target\"]]"
   ]
  },
  {
   "cell_type": "code",
   "execution_count": 15,
   "metadata": {},
   "outputs": [],
   "source": [
    "df = df[\"Target\"]"
   ]
  },
  {
   "cell_type": "code",
   "execution_count": 18,
   "metadata": {},
   "outputs": [
    {
     "name": "stdout",
     "output_type": "stream",
     "text": [
      "<class 'pandas.core.frame.DataFrame'>\n",
      "RangeIndex: 12960 entries, 0 to 12959\n",
      "Data columns (total 9 columns):\n",
      "(Parents,)     12960 non-null object\n",
      "(has_nurs,)    12960 non-null object\n",
      "(form,)        12960 non-null object\n",
      "(children,)    12960 non-null object\n",
      "(housing,)     12960 non-null object\n",
      "(finance,)     12960 non-null object\n",
      "(social,)      12960 non-null object\n",
      "(health,)      12960 non-null object\n",
      "(Target,)      12960 non-null object\n",
      "dtypes: object(9)\n",
      "memory usage: 911.3+ KB\n"
     ]
    }
   ],
   "source": [
    "df.info()"
   ]
  },
  {
   "cell_type": "code",
   "execution_count": 7,
   "metadata": {},
   "outputs": [
    {
     "name": "stderr",
     "output_type": "stream",
     "text": [
      "C:\\Users\\Tanay Shah\\Anaconda3\\lib\\site-packages\\pandas\\core\\generic.py:3812: PerformanceWarning: dropping on a non-lexsorted multi-index without a level parameter may impact performance.\n",
      "  new_axis = axis.drop(labels, errors=errors)\n"
     ]
    }
   ],
   "source": [
    "X = df.drop(\"Target\",axis=1)\n",
    "y = df[\"Target\"]"
   ]
  },
  {
   "cell_type": "code",
   "execution_count": 15,
   "metadata": {},
   "outputs": [
    {
     "name": "stdout",
     "output_type": "stream",
     "text": [
      "<class 'pandas.core.frame.DataFrame'>\n",
      "RangeIndex: 12960 entries, 0 to 12959\n",
      "Data columns (total 27 columns):\n",
      "('Parents',)_great_pret      12960 non-null uint8\n",
      "('Parents',)_pretentious     12960 non-null uint8\n",
      "('Parents',)_usual           12960 non-null uint8\n",
      "('has_nurs',)_critical       12960 non-null uint8\n",
      "('has_nurs',)_improper       12960 non-null uint8\n",
      "('has_nurs',)_less_proper    12960 non-null uint8\n",
      "('has_nurs',)_proper         12960 non-null uint8\n",
      "('has_nurs',)_very_crit      12960 non-null uint8\n",
      "('form',)_complete           12960 non-null uint8\n",
      "('form',)_completed          12960 non-null uint8\n",
      "('form',)_foster             12960 non-null uint8\n",
      "('form',)_incomplete         12960 non-null uint8\n",
      "('children',)_1              12960 non-null uint8\n",
      "('children',)_2              12960 non-null uint8\n",
      "('children',)_3              12960 non-null uint8\n",
      "('children',)_more           12960 non-null uint8\n",
      "('housing',)_convenient      12960 non-null uint8\n",
      "('housing',)_critical        12960 non-null uint8\n",
      "('housing',)_less_conv       12960 non-null uint8\n",
      "('finance',)_convenient      12960 non-null uint8\n",
      "('finance',)_inconv          12960 non-null uint8\n",
      "('social',)_nonprob          12960 non-null uint8\n",
      "('social',)_problematic      12960 non-null uint8\n",
      "('social',)_slightly_prob    12960 non-null uint8\n",
      "('health',)_not_recom        12960 non-null uint8\n",
      "('health',)_priority         12960 non-null uint8\n",
      "('health',)_recommended      12960 non-null uint8\n",
      "dtypes: uint8(27)\n",
      "memory usage: 341.8 KB\n"
     ]
    }
   ],
   "source": [
    "X = pd.get_dummies(X)\n",
    "X"
   ]
  },
  {
   "cell_type": "code",
   "execution_count": 16,
   "metadata": {},
   "outputs": [],
   "source": [
    "from sklearn.model_selection import train_test_split"
   ]
  },
  {
   "cell_type": "code",
   "execution_count": 17,
   "metadata": {},
   "outputs": [],
   "source": [
    "X_train,X_test,y_train,y_test = train_test_split(X,y,test_size=0.3)"
   ]
  },
  {
   "cell_type": "code",
   "execution_count": 18,
   "metadata": {},
   "outputs": [],
   "source": [
    "from sklearn.svm import SVC"
   ]
  },
  {
   "cell_type": "code",
   "execution_count": 19,
   "metadata": {},
   "outputs": [],
   "source": [
    "svc = SVC(kernel=\"linear\")"
   ]
  },
  {
   "cell_type": "code",
   "execution_count": 20,
   "metadata": {},
   "outputs": [
    {
     "name": "stderr",
     "output_type": "stream",
     "text": [
      "C:\\Users\\Tanay Shah\\Anaconda3\\lib\\site-packages\\sklearn\\utils\\validation.py:761: DataConversionWarning: A column-vector y was passed when a 1d array was expected. Please change the shape of y to (n_samples, ), for example using ravel().\n",
      "  y = column_or_1d(y, warn=True)\n"
     ]
    },
    {
     "data": {
      "text/plain": [
       "SVC(C=1.0, cache_size=200, class_weight=None, coef0=0.0,\n",
       "  decision_function_shape='ovr', degree=3, gamma='auto_deprecated',\n",
       "  kernel='linear', max_iter=-1, probability=False, random_state=None,\n",
       "  shrinking=True, tol=0.001, verbose=False)"
      ]
     },
     "execution_count": 20,
     "metadata": {},
     "output_type": "execute_result"
    }
   ],
   "source": [
    "svc.fit(X_train,y_train)"
   ]
  },
  {
   "cell_type": "code",
   "execution_count": 56,
   "metadata": {},
   "outputs": [
    {
     "name": "stdout",
     "output_type": "stream",
     "text": [
      "<class 'pandas.core.frame.DataFrame'>\n",
      "Int64Index: 3888 entries, 8327 to 6561\n",
      "Data columns (total 27 columns):\n",
      "('Parents',)_great_pret      3888 non-null uint8\n",
      "('Parents',)_pretentious     3888 non-null uint8\n",
      "('Parents',)_usual           3888 non-null uint8\n",
      "('has_nurs',)_critical       3888 non-null uint8\n",
      "('has_nurs',)_improper       3888 non-null uint8\n",
      "('has_nurs',)_less_proper    3888 non-null uint8\n",
      "('has_nurs',)_proper         3888 non-null uint8\n",
      "('has_nurs',)_very_crit      3888 non-null uint8\n",
      "('form',)_complete           3888 non-null uint8\n",
      "('form',)_completed          3888 non-null uint8\n",
      "('form',)_foster             3888 non-null uint8\n",
      "('form',)_incomplete         3888 non-null uint8\n",
      "('children',)_1              3888 non-null uint8\n",
      "('children',)_2              3888 non-null uint8\n",
      "('children',)_3              3888 non-null uint8\n",
      "('children',)_more           3888 non-null uint8\n",
      "('housing',)_convenient      3888 non-null uint8\n",
      "('housing',)_critical        3888 non-null uint8\n",
      "('housing',)_less_conv       3888 non-null uint8\n",
      "('finance',)_convenient      3888 non-null uint8\n",
      "('finance',)_inconv          3888 non-null uint8\n",
      "('social',)_nonprob          3888 non-null uint8\n",
      "('social',)_problematic      3888 non-null uint8\n",
      "('social',)_slightly_prob    3888 non-null uint8\n",
      "('health',)_not_recom        3888 non-null uint8\n",
      "('health',)_priority         3888 non-null uint8\n",
      "('health',)_recommended      3888 non-null uint8\n",
      "dtypes: uint8(27)\n",
      "memory usage: 132.9 KB\n"
     ]
    }
   ],
   "source": [
    "X_test.info()"
   ]
  },
  {
   "cell_type": "code",
   "execution_count": 71,
   "metadata": {},
   "outputs": [],
   "source": [
    "pred = svc.predict(X_test)"
   ]
  },
  {
   "cell_type": "code",
   "execution_count": 73,
   "metadata": {},
   "outputs": [
    {
     "data": {
      "text/plain": [
       "array(['not_recom', 'not_recom', 'not_recom', ..., 'spec_prior',\n",
       "       'priority', 'priority'], dtype=object)"
      ]
     },
     "execution_count": 73,
     "metadata": {},
     "output_type": "execute_result"
    }
   ],
   "source": [
    "pred"
   ]
  },
  {
   "cell_type": "code",
   "execution_count": 74,
   "metadata": {},
   "outputs": [],
   "source": [
    "from sklearn.metrics import accuracy_score,confusion_matrix,classification_report"
   ]
  },
  {
   "cell_type": "code",
   "execution_count": 75,
   "metadata": {},
   "outputs": [
    {
     "name": "stdout",
     "output_type": "stream",
     "text": [
      "0.9272119341563786\n",
      "              precision    recall  f1-score   support\n",
      "\n",
      "   not_recom       1.00      1.00      1.00      1328\n",
      "    priority       0.88      0.90      0.89      1295\n",
      "  spec_prior       0.90      0.89      0.90      1170\n",
      "  very_recom       0.87      0.68      0.76        95\n",
      "\n",
      "   micro avg       0.93      0.93      0.93      3888\n",
      "   macro avg       0.91      0.87      0.89      3888\n",
      "weighted avg       0.93      0.93      0.93      3888\n",
      "\n",
      "[[1328    0    0    0]\n",
      " [   0 1171  114   10]\n",
      " [   0  129 1041    0]\n",
      " [   0   30    0   65]]\n"
     ]
    }
   ],
   "source": [
    "print(accuracy_score(y_test,pred))\n",
    "print(classification_report(y_test,pred))\n",
    "print(confusion_matrix(y_test,pred))"
   ]
  },
  {
   "cell_type": "code",
   "execution_count": 76,
   "metadata": {},
   "outputs": [],
   "source": [
    "from sklearn.tree import DecisionTreeClassifier"
   ]
  },
  {
   "cell_type": "code",
   "execution_count": 77,
   "metadata": {},
   "outputs": [],
   "source": [
    "dtree = DecisionTreeClassifier()"
   ]
  },
  {
   "cell_type": "code",
   "execution_count": 78,
   "metadata": {},
   "outputs": [
    {
     "data": {
      "text/plain": [
       "DecisionTreeClassifier(class_weight=None, criterion='gini', max_depth=None,\n",
       "            max_features=None, max_leaf_nodes=None,\n",
       "            min_impurity_decrease=0.0, min_impurity_split=None,\n",
       "            min_samples_leaf=1, min_samples_split=2,\n",
       "            min_weight_fraction_leaf=0.0, presort=False, random_state=None,\n",
       "            splitter='best')"
      ]
     },
     "execution_count": 78,
     "metadata": {},
     "output_type": "execute_result"
    }
   ],
   "source": [
    "dtree.fit(X_train,y_train)"
   ]
  },
  {
   "cell_type": "code",
   "execution_count": 79,
   "metadata": {},
   "outputs": [],
   "source": [
    "pred_tree = dtree.predict(X_test)"
   ]
  },
  {
   "cell_type": "code",
   "execution_count": 80,
   "metadata": {},
   "outputs": [
    {
     "name": "stdout",
     "output_type": "stream",
     "text": [
      "0.9963991769547325\n",
      "              precision    recall  f1-score   support\n",
      "\n",
      "   not_recom       1.00      1.00      1.00      1328\n",
      "    priority       0.99      1.00      0.99      1295\n",
      "  spec_prior       1.00      0.99      1.00      1170\n",
      "  very_recom       0.98      0.98      0.98        95\n",
      "\n",
      "   micro avg       1.00      1.00      1.00      3888\n",
      "   macro avg       0.99      0.99      0.99      3888\n",
      "weighted avg       1.00      1.00      1.00      3888\n",
      "\n",
      "[[1328    0    0    0]\n",
      " [   0 1291    2    2]\n",
      " [   0    8 1162    0]\n",
      " [   0    2    0   93]]\n"
     ]
    }
   ],
   "source": [
    "print(accuracy_score(y_test,pred_tree))\n",
    "print(classification_report(y_test,pred_tree))\n",
    "print(confusion_matrix(y_test,pred_tree))"
   ]
  },
  {
   "cell_type": "code",
   "execution_count": 82,
   "metadata": {},
   "outputs": [],
   "source": [
    "from sklearn.externals import joblib"
   ]
  },
  {
   "cell_type": "code",
   "execution_count": 83,
   "metadata": {},
   "outputs": [
    {
     "data": {
      "text/plain": [
       "['dtree.sav']"
      ]
     },
     "execution_count": 83,
     "metadata": {},
     "output_type": "execute_result"
    }
   ],
   "source": [
    "joblib.dump(dtree,\"dtree.sav\")"
   ]
  },
  {
   "cell_type": "code",
   "execution_count": 86,
   "metadata": {},
   "outputs": [
    {
     "data": {
      "text/plain": [
       "'not_recom'"
      ]
     },
     "execution_count": 86,
     "metadata": {},
     "output_type": "execute_result"
    }
   ],
   "source": [
    "filename = \"dtree.sav\"\n",
    "dtree = joblib.load(filename)\n",
    "res = dtree.predict([final])\n",
    "res[0]"
   ]
  }
 ],
 "metadata": {
  "kernelspec": {
   "display_name": "Python 3",
   "language": "python",
   "name": "python3"
  },
  "language_info": {
   "codemirror_mode": {
    "name": "ipython",
    "version": 3
   },
   "file_extension": ".py",
   "mimetype": "text/x-python",
   "name": "python",
   "nbconvert_exporter": "python",
   "pygments_lexer": "ipython3",
   "version": "3.7.4"
  }
 },
 "nbformat": 4,
 "nbformat_minor": 2
}
